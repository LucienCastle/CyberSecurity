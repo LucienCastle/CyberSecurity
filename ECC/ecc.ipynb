{
 "cells": [
  {
   "cell_type": "code",
   "execution_count": 1,
   "id": "straight-cocktail",
   "metadata": {},
   "outputs": [],
   "source": [
    "import random\n",
    "import math\n",
    "from Crypto.Util import number\n",
    "import multiprocessing\n",
    "from joblib import Parallel, delayed"
   ]
  },
  {
   "cell_type": "code",
   "execution_count": 97,
   "id": "tested-medium",
   "metadata": {},
   "outputs": [],
   "source": [
    "class ECC:\n",
    "    def __init__(self,a,b,p):\n",
    "        self.a = a\n",
    "        self.b = b\n",
    "        self.p = p\n",
    "        self.xrange = p\n",
    "        \n",
    "    def get_y_for_x(self,x):\n",
    "        y = pow(x,3) + self.a*x + self.b\n",
    "        return (y)%13\n",
    "    \n",
    "    def choose_point(self):\n",
    "        self.squares = self.calculate_squares(self.p)\n",
    "        self.points = self.get_points(self.squares,self.p)\n",
    "        selected_points = random.choice(self.points)\n",
    "        return selected_points\n",
    "#         return self.points\n",
    "        \n",
    "    def get_second_point(self,e1):\n",
    "        self.d = random.randrange(2,self.p,1)\n",
    "        e2 = self.add(self.d,e1)\n",
    "        return e2\n",
    "    \n",
    "    def addition(self,p1,p2):\n",
    "        if p1 == p2:\n",
    "            sump = self.add_same(p1)\n",
    "        else:\n",
    "            sump = self.add_diff(p1,p2)\n",
    "        return sump\n",
    "    \n",
    "    def cal_x3(self,lambdaa,x1,x2):\n",
    "        return pow(lambdaa,2)-x1-x2\n",
    "    \n",
    "    def cal_y3(self,lambdaa,x1,x3,y1):\n",
    "        return (lambdaa*(x1-x3))-y1\n",
    "    \n",
    "    def add_same(self,p):\n",
    "        x1 = p[0]\n",
    "        y1 = p[1]\n",
    "        lambdaa = (((3*pow(x1,2))+self.a)//(2*y1)) % self.p\n",
    "        newp = []\n",
    "        x3 = (self.cal_x3(lambdaa,x1,x1))%self.p\n",
    "        y3 = (self.cal_y3(lambdaa,x1,x3,y1))%self.p\n",
    "        newp.append(x3)\n",
    "        newp.append(y3)\n",
    "        return newp\n",
    "    \n",
    "    def add_diff(self,p,q):\n",
    "        x1,y1 = p[0],p[1]\n",
    "        x2,y2 = q[0],q[1]\n",
    "        lambdaa = ((y2-y1)//(x2-x1))%self.p\n",
    "        newp = []\n",
    "        x3 = (self.cal_x3(lambdaa,x1,x1))%self.p\n",
    "        y3 = (self.cal_y3(lambdaa,x1,x3,y1))%self.p\n",
    "        newp.append(x3)\n",
    "        newp.append(y3)\n",
    "        return newp\n",
    "    \n",
    "    def add(self,d,e1):\n",
    "        sump = self.addition(e1,e1)\n",
    "        print(sump)\n",
    "        d = d - 1\n",
    "        while d > 1:\n",
    "            sump = self.addition(sump,e1)\n",
    "            print(sump)\n",
    "            d = d - 1\n",
    "        return sump\n",
    "    \n",
    "    def calculate_squares(self,p):\n",
    "        sq = {}\n",
    "        for i in range(p):\n",
    "            sq[i] = (i*i) % p\n",
    "        return sq\n",
    "    \n",
    "    def get_points(self,squares,p):\n",
    "        points = []\n",
    "        for x in range(p):\n",
    "            y = self.get_y_for_x(x)\n",
    "            sq = self.find_square_root(y,squares)\n",
    "            if sq == -1:\n",
    "                continue\n",
    "            else:\n",
    "                points.append([x,sq])\n",
    "                points.append([x,p-sq])\n",
    "        return points\n",
    "    \n",
    "    def find_square_root(self,square,squares):\n",
    "        for key,val in squares.items():\n",
    "            if val == square:\n",
    "                return key\n",
    "        return -1\n",
    "        "
   ]
  },
  {
   "cell_type": "code",
   "execution_count": 98,
   "id": "divine-impossible",
   "metadata": {},
   "outputs": [],
   "source": [
    "a = ECC(1,1,13)"
   ]
  },
  {
   "cell_type": "code",
   "execution_count": 99,
   "id": "animated-softball",
   "metadata": {},
   "outputs": [
    {
     "data": {
      "text/plain": [
       "[5, 12]"
      ]
     },
     "execution_count": 99,
     "metadata": {},
     "output_type": "execute_result"
    }
   ],
   "source": [
    "e = a.choose_point()\n",
    "e"
   ]
  },
  {
   "cell_type": "code",
   "execution_count": 100,
   "id": "defined-warner",
   "metadata": {},
   "outputs": [
    {
     "data": {
      "text/plain": [
       "[[0, 1],\n",
       " [0, 12],\n",
       " [1, 4],\n",
       " [1, 9],\n",
       " [4, 2],\n",
       " [4, 11],\n",
       " [5, 1],\n",
       " [5, 12],\n",
       " [7, 0],\n",
       " [7, 13],\n",
       " [8, 1],\n",
       " [8, 12],\n",
       " [10, 6],\n",
       " [10, 7],\n",
       " [11, 2],\n",
       " [11, 11],\n",
       " [12, 5],\n",
       " [12, 8]]"
      ]
     },
     "execution_count": 100,
     "metadata": {},
     "output_type": "execute_result"
    }
   ],
   "source": [
    "a.points"
   ]
  },
  {
   "cell_type": "code",
   "execution_count": 101,
   "id": "quantitative-experience",
   "metadata": {},
   "outputs": [
    {
     "data": {
      "text/plain": [
       "{0: 0,\n",
       " 1: 1,\n",
       " 2: 4,\n",
       " 3: 9,\n",
       " 4: 3,\n",
       " 5: 12,\n",
       " 6: 10,\n",
       " 7: 10,\n",
       " 8: 12,\n",
       " 9: 3,\n",
       " 10: 9,\n",
       " 11: 4,\n",
       " 12: 1}"
      ]
     },
     "execution_count": 101,
     "metadata": {},
     "output_type": "execute_result"
    }
   ],
   "source": [
    "a.squares"
   ]
  },
  {
   "cell_type": "code",
   "execution_count": 102,
   "id": "damaged-export",
   "metadata": {},
   "outputs": [
    {
     "name": "stdout",
     "output_type": "stream",
     "text": [
      "[12, 6]\n",
      "[3, 11]\n",
      "[7, 2]\n",
      "[11, 5]\n",
      "[8, 2]\n",
      "[0, 5]\n",
      "[1, 7]\n"
     ]
    },
    {
     "data": {
      "text/plain": [
       "[1, 7]"
      ]
     },
     "execution_count": 102,
     "metadata": {},
     "output_type": "execute_result"
    }
   ],
   "source": [
    "a.get_second_point(e)"
   ]
  },
  {
   "cell_type": "code",
   "execution_count": null,
   "id": "sophisticated-promise",
   "metadata": {},
   "outputs": [],
   "source": []
  }
 ],
 "metadata": {
  "kernelspec": {
   "display_name": "Python 3",
   "language": "python",
   "name": "python3"
  },
  "language_info": {
   "codemirror_mode": {
    "name": "ipython",
    "version": 3
   },
   "file_extension": ".py",
   "mimetype": "text/x-python",
   "name": "python",
   "nbconvert_exporter": "python",
   "pygments_lexer": "ipython3",
   "version": "3.8.8"
  }
 },
 "nbformat": 4,
 "nbformat_minor": 5
}
