{
 "cells": [
  {
   "cell_type": "code",
   "execution_count": 1,
   "id": "classified-insulin",
   "metadata": {},
   "outputs": [],
   "source": [
    "import random\n",
    "import math\n",
    "from Crypto.Util import number\n",
    "import multiprocessing\n",
    "from joblib import Parallel, delayed"
   ]
  },
  {
   "cell_type": "code",
   "execution_count": 2,
   "id": "black-jones",
   "metadata": {},
   "outputs": [],
   "source": [
    "class RSA:\n",
    "    def __init__(self, *args):\n",
    "        '''\n",
    "        init RSA\n",
    "        :param operation (encrypt or decrypt)\n",
    "               for decrypt  \n",
    "                   :param   e  :public key\n",
    "                            n  :p*q\n",
    "                            phi:(p-1)(q-1)\n",
    "        '''\n",
    "        if args[0] == 'encrypt':\n",
    "            self.p = number.getPrime(5)                         # generate prime numbers\n",
    "            self.q = number.getPrime(5)                \n",
    "            while self.q==self.p:                               # checks if both numbers arent same\n",
    "                self.q = number.getPrime(5)\n",
    "            self.n = self.q*self.p                              # calculate n\n",
    "            self.phi = (self.p-1)*(self.q-1)                    # calculate eulers totient of n\n",
    "            self.e = self.get_public_key(self.phi)\n",
    "            \n",
    "        elif args[0] == 'decrypt':    \n",
    "            self.e = args[1]\n",
    "            self.n = args[2]\n",
    "            self.phi = args[3]\n",
    "            self.d = self.get_private_key(self.phi,self.e)\n",
    "\n",
    "    def get_public_key(self,phi):\n",
    "        ''' \n",
    "        get e such that gcd(e,phi(n)) = 1\n",
    "        \n",
    "        :param phi:\n",
    "        \n",
    "        :return:\n",
    "        '''\n",
    "        e = 2\n",
    "        while e < phi:\n",
    "            gcd,_,_ = self.extGCD(e,phi)\n",
    "            if gcd ==1 : \n",
    "                break \n",
    "            else:\n",
    "                e = e + 1\n",
    "        return e\n",
    "    \n",
    "    def get_private_key(self,phi,e):\n",
    "        '''\n",
    "        calculates d such that e*d mod phi(n) = 1\n",
    "        \n",
    "        :param phi:\n",
    "        :param e:\n",
    "        \n",
    "        :return:\n",
    "        '''\n",
    "        gcd,x,y = self.extGCD(phi,e)\n",
    "        if y < 0:\n",
    "            return phi+y\n",
    "        else:\n",
    "            return y\n",
    "    \n",
    "    def extGCD(self,num1,num2):                           \n",
    "        '''\n",
    "        computes gcd of integers num1 and num2, \n",
    "        the coefficients of Bézout’s identity, \n",
    "        i.e., integers x and y such that \n",
    "        ax + by = gcd(a, b).\n",
    "        \n",
    "        :param number1:\n",
    "        :param number2:\n",
    "        :return:\n",
    "        '''\n",
    "        if num1 == 0:\n",
    "            return num2, 0, 1\n",
    "        else:\n",
    "            gcd, x, y = self.extGCD(num2 % num1, num1)\n",
    "            return gcd, y - (num2 // num1) * x, x\n",
    "        \n",
    "    def encrypt(self,message):\n",
    "        '''\n",
    "        encryptes the string message\n",
    "        \n",
    "        :param message in string format:\n",
    "        :return:\n",
    "        '''\n",
    "        sizeM = len(message)\n",
    "        encrypted_message = []\n",
    "        for character in message:\n",
    "            encrypted_message.append((ord(character)**self.e)%self.n)  \n",
    "        return encrypted_message\n",
    "\n",
    "    def decrypt(self,encrypted_message):\n",
    "        '''\n",
    "        decrypts the message\n",
    "        \n",
    "        :param encrypted string:\n",
    "        return:\n",
    "        '''\n",
    "        decM = []\n",
    "        for item in encrypted_message:\n",
    "            decM.append(chr((ord(item)**self.d)%self.n))\n",
    "        return \"\".join(decM)"
   ]
  },
  {
   "cell_type": "code",
   "execution_count": 3,
   "id": "scheduled-strip",
   "metadata": {},
   "outputs": [],
   "source": [
    "# creating encrypting user object\n",
    "encrypt = RSA('encrypt')"
   ]
  },
  {
   "cell_type": "code",
   "execution_count": 4,
   "id": "reliable-scroll",
   "metadata": {},
   "outputs": [
    {
     "name": "stdout",
     "output_type": "stream",
     "text": [
      "Generated prime numbers are 29 and 19\n"
     ]
    }
   ],
   "source": [
    "print('Generated prime numbers are',encrypt.p,'and',encrypt.q)"
   ]
  },
  {
   "cell_type": "code",
   "execution_count": 5,
   "id": "directed-sailing",
   "metadata": {},
   "outputs": [
    {
     "name": "stdout",
     "output_type": "stream",
     "text": [
      "Calculated n (pxq) : 551\n",
      "Eulers totient of n = 504 (for 2 primes phi(pq) = (p-1)(q-1))\n",
      "Public Key : 5\n"
     ]
    }
   ],
   "source": [
    "print('Calculated n (pxq) :',encrypt.n)\n",
    "print('Eulers totient of n =',encrypt.phi,'(for 2 primes phi(pq) = (p-1)(q-1))')\n",
    "print('Public Key :',encrypt.e)"
   ]
  },
  {
   "cell_type": "code",
   "execution_count": 6,
   "id": "outstanding-times",
   "metadata": {},
   "outputs": [],
   "source": [
    "# encrypting the string message\n",
    "dec = encrypt.encrypt('Lucien Castle99!')"
   ]
  },
  {
   "cell_type": "code",
   "execution_count": 7,
   "id": "floppy-november",
   "metadata": {},
   "outputs": [
    {
     "name": "stdout",
     "output_type": "stream",
     "text": [
      "Encrypted Message : ÷ĆĮƥĵŘ¹ƸĪsËĵ99C\n"
     ]
    }
   ],
   "source": [
    "encrypted_text = []\n",
    "for item in dec:\n",
    "    encrypted_text.append(chr(item))\n",
    "print('Encrypted Message :',\"\".join(encrypted_text))"
   ]
  },
  {
   "cell_type": "code",
   "execution_count": 8,
   "id": "bored-mirror",
   "metadata": {},
   "outputs": [],
   "source": [
    "# creating decrypting user object\n",
    "decrypt = RSA('decrypt',encrypt.e,encrypt.n,encrypt.phi)"
   ]
  },
  {
   "cell_type": "code",
   "execution_count": 9,
   "id": "arranged-treasure",
   "metadata": {},
   "outputs": [
    {
     "name": "stdout",
     "output_type": "stream",
     "text": [
      "Private Key : 101\n"
     ]
    }
   ],
   "source": [
    "print('Private Key :',decrypt.d)"
   ]
  },
  {
   "cell_type": "code",
   "execution_count": 10,
   "id": "ruled-tourism",
   "metadata": {},
   "outputs": [
    {
     "name": "stdout",
     "output_type": "stream",
     "text": [
      "Decrypted Message : Lucien Castle99!\n"
     ]
    }
   ],
   "source": [
    "print('Decrypted Message :',decrypt.decrypt(encrypted_text))"
   ]
  }
 ],
 "metadata": {
  "kernelspec": {
   "display_name": "Python 3",
   "language": "python",
   "name": "python3"
  },
  "language_info": {
   "codemirror_mode": {
    "name": "ipython",
    "version": 3
   },
   "file_extension": ".py",
   "mimetype": "text/x-python",
   "name": "python",
   "nbconvert_exporter": "python",
   "pygments_lexer": "ipython3",
   "version": "3.8.5"
  }
 },
 "nbformat": 4,
 "nbformat_minor": 5
}
