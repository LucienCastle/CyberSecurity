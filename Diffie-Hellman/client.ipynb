{
 "cells": [
  {
   "cell_type": "code",
   "execution_count": 2,
   "id": "ethical-james",
   "metadata": {},
   "outputs": [],
   "source": [
    "def bytesToInt(bb):\n",
    "    bb = str(bb,'utf8')\n",
    "    return int(bb)"
   ]
  },
  {
   "cell_type": "code",
   "execution_count": 3,
   "id": "thorough-biology",
   "metadata": {},
   "outputs": [],
   "source": [
    "def generatePublicKey(q,alpha,privateKey):\n",
    "    q = bytesToInt(q)\n",
    "    alpha = bytesToInt(alpha)\n",
    "    return ((alpha**privateKey)%q)"
   ]
  },
  {
   "cell_type": "code",
   "execution_count": 5,
   "id": "straight-direction",
   "metadata": {},
   "outputs": [
    {
     "data": {
      "text/plain": [
       "<bound method socket.close of <socket.socket fd=44, family=AddressFamily.AF_INET, type=SocketKind.SOCK_STREAM, proto=0, laddr=('127.0.0.1', 43596), raddr=('127.0.1.1', 8002)>>"
      ]
     },
     "execution_count": 5,
     "metadata": {},
     "output_type": "execute_result"
    }
   ],
   "source": [
    "import socket               # Import socket module\n",
    "import random\n",
    "s = socket.socket()         # Create a socket object\n",
    "host = socket.gethostname() # Get local machine name\n",
    "port = 8002               # Reserve a port for your service.\n",
    "\n",
    "privateKey = random.randrange(1,10,1)\n",
    "\n",
    "s.connect((host, port))\n",
    "q = s.recv(1024)\n",
    "alpha = s.recv(1024)\n",
    "publicKeyA = s.recv(1024)\n",
    "publicKeyB = generatePublicKey(q,alpha,privateKey)\n",
    "s.send(bytes(str(publicKeyB),'utf8'))\n",
    "s.close      "
   ]
  },
  {
   "cell_type": "code",
   "execution_count": 10,
   "id": "differential-rugby",
   "metadata": {},
   "outputs": [
    {
     "data": {
      "text/plain": [
       "550502"
      ]
     },
     "execution_count": 10,
     "metadata": {},
     "output_type": "execute_result"
    }
   ],
   "source": [
    "publicKeyA = bytesToInt(publicKeyA)\n",
    "secretKey = (publicKeyA**privateKey)%bytesToInt(q)\n",
    "secretKey"
   ]
  },
  {
   "cell_type": "code",
   "execution_count": null,
   "id": "endless-words",
   "metadata": {},
   "outputs": [],
   "source": []
  }
 ],
 "metadata": {
  "kernelspec": {
   "display_name": "Python 3",
   "language": "python",
   "name": "python3"
  },
  "language_info": {
   "codemirror_mode": {
    "name": "ipython",
    "version": 3
   },
   "file_extension": ".py",
   "mimetype": "text/x-python",
   "name": "python",
   "nbconvert_exporter": "python",
   "pygments_lexer": "ipython3",
   "version": "3.8.5"
  }
 },
 "nbformat": 4,
 "nbformat_minor": 5
}
