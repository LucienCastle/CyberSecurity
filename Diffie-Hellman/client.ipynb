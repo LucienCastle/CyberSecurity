{
 "cells": [
  {
   "cell_type": "code",
   "execution_count": 1,
   "id": "occupied-bulgaria",
   "metadata": {},
   "outputs": [],
   "source": [
    "def bytesToInt(bb):\n",
    "    '''Converts bytes to Int'''\n",
    "    bb = str(bb,'utf8')\n",
    "    return int(bb)"
   ]
  },
  {
   "cell_type": "code",
   "execution_count": 2,
   "id": "genetic-orleans",
   "metadata": {},
   "outputs": [],
   "source": [
    "def generatePublicKey(q,alpha,privateKey):\n",
    "    '''Generate Public key for client'''\n",
    "    q = bytesToInt(q)\n",
    "    alpha = bytesToInt(alpha)\n",
    "    return ((alpha**privateKey)%q)"
   ]
  },
  {
   "cell_type": "code",
   "execution_count": 3,
   "id": "bronze-amount",
   "metadata": {},
   "outputs": [
    {
     "data": {
      "text/plain": [
       "<bound method socket.close of <socket.socket fd=41, family=AddressFamily.AF_INET, type=SocketKind.SOCK_STREAM, proto=0, laddr=('127.0.0.1', 44054), raddr=('127.0.1.1', 8001)>>"
      ]
     },
     "execution_count": 3,
     "metadata": {},
     "output_type": "execute_result"
    }
   ],
   "source": [
    "import socket                                          # Import socket module\n",
    "import random\n",
    "s = socket.socket()                                    # Create a socket object\n",
    "host = socket.gethostname()                            # Get local machine name\n",
    "port = 8001                                            # Reserve a port for your service.\n",
    "\n",
    "\n",
    "privateKey = random.randrange(1,10,1)                  # generate private key for client\n",
    "\n",
    "s.connect((host, port))                                # connect to the server\n",
    "q = s.recv(1024)                                       # receive q\n",
    "alpha = s.recv(1024)                                   # receive alpha\n",
    "publicKeyA = s.recv(1024)                              # receive public key of server\n",
    "publicKeyB = generatePublicKey(q,alpha,privateKey)     # generate and send public key of client\n",
    "s.send(bytes(str(publicKeyB),'utf8'))\n",
    "s.close                                                # close connection"
   ]
  },
  {
   "cell_type": "code",
   "execution_count": 4,
   "id": "relevant-protection",
   "metadata": {},
   "outputs": [
    {
     "data": {
      "text/plain": [
       "15625"
      ]
     },
     "execution_count": 4,
     "metadata": {},
     "output_type": "execute_result"
    }
   ],
   "source": [
    "publicKeyA = bytesToInt(publicKeyA)\n",
    "secretKey = (publicKeyA**privateKey)%bytesToInt(q)     # generate s\n",
    "secretKey"
   ]
  },
  {
   "cell_type": "code",
   "execution_count": null,
   "id": "consecutive-albert",
   "metadata": {},
   "outputs": [],
   "source": []
  }
 ],
 "metadata": {
  "kernelspec": {
   "display_name": "Python 3",
   "language": "python",
   "name": "python3"
  },
  "language_info": {
   "codemirror_mode": {
    "name": "ipython",
    "version": 3
   },
   "file_extension": ".py",
   "mimetype": "text/x-python",
   "name": "python",
   "nbconvert_exporter": "python",
   "pygments_lexer": "ipython3",
   "version": "3.8.5"
  }
 },
 "nbformat": 4,
 "nbformat_minor": 5
}
