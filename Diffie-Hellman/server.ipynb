{
 "cells": [
  {
   "cell_type": "code",
   "execution_count": 1,
   "id": "varied-facial",
   "metadata": {},
   "outputs": [],
   "source": [
    "import random\n",
    "import math\n",
    "from Crypto.Util import number\n",
    "import multiprocessing\n",
    "from joblib import Parallel, delayed"
   ]
  },
  {
   "cell_type": "code",
   "execution_count": 2,
   "id": "framed-runner",
   "metadata": {},
   "outputs": [],
   "source": [
    "class keyGen:\n",
    "    def __init__(self,nbits):                         # constructor\n",
    "        self.q = number.getPrime(nbits)               # q\n",
    "        self.alpha = self.getalpha()                  # alpha\n",
    "        self.privateKey = random.randrange(1,10,1)    # random private key within a range\n",
    "    \n",
    "    def getalpha(self):                               \n",
    "        alpha = -1\n",
    "        while alpha == -1:\n",
    "            alpha = self.getPrimitiveRoot(self.q)     # gets one of the primitive roots of q\n",
    "        return alpha\n",
    "    \n",
    "    def power(self, x, y, p):  \n",
    "        res = 1   \n",
    "        x = x % p \n",
    "        while (y > 0):  \n",
    "            if (y & 1):                               # If y is odd, multiply x with result  \n",
    "                res = (res * x) % p   \n",
    "            y = y >> 1                                # y = y/2  \n",
    "            x = (x * x) % p  \n",
    "        return res  \n",
    "\n",
    "    def getPrimeFactors(self,phi):\n",
    "        factors = set()\n",
    "        while (phi % 2 == 0) : \n",
    "            factors.add(2)  \n",
    "            phi = phi // 2\n",
    "\n",
    "        for i in range(3, int(math.sqrt(phi)), 2):    # when phi is odd\n",
    "            while (phi % i == 0) : \n",
    "                factors.add(i)  \n",
    "                phi = phi // i  \n",
    "\n",
    "        if (phi > 2) :                                # This condition is to handle the case when phi is a prime number greater than 2  \n",
    "            factors.add(phi)  \n",
    "\n",
    "        return factors\n",
    "    \n",
    "    def getPrimitiveRoot(self,prime):\n",
    "        phi = prime - 1                               # Euler's totient of prime number p is p-1\n",
    "        factors = self.getPrimeFactors(phi)           # get the prime factors of euler's totient\n",
    "        \n",
    "        '''Checks if the factors are primitive primes or not'''\n",
    "        ret_list = Parallel(n_jobs = multiprocessing.cpu_count())(delayed(self.checkPrimitivePrime)(i, prime, factors) for i in range(2, phi+1))\n",
    "        ret_list = list(filter(None, ret_list))       # remove the None values\n",
    "        \n",
    "        print(ret_list[:len(ret_list)-10:-1])         # print last 10 primitive roots\n",
    "        return(ret_list[len(ret_list)-1])             # select highest primitive root\n",
    "    \n",
    "    def checkPrimitivePrime(self,i,q,factors):\n",
    "        '''Checks if primitive root'''\n",
    "        phi = q - 1\n",
    "        for factor in factors:\n",
    "            if self.power(i, phi // factor, q) == 1:\n",
    "                return None\n",
    "        return i"
   ]
  },
  {
   "cell_type": "code",
   "execution_count": 3,
   "id": "descending-advocate",
   "metadata": {},
   "outputs": [
    {
     "name": "stdout",
     "output_type": "stream",
     "text": [
      "[1022499, 1022493, 1022491, 1022490, 1022489, 1022487, 1022483, 1022480, 1022475]\n",
      "Selected q: 1022501\n",
      "Selected alpha: 1022499\n",
      "Selected private key: 9\n"
     ]
    }
   ],
   "source": [
    "keyA = keyGen(20)\n",
    "print('Selected q:', keyA.q)\n",
    "print('Selected alpha:', keyA.alpha)\n",
    "print('Selected private key:', keyA.privateKey)"
   ]
  },
  {
   "cell_type": "code",
   "execution_count": 4,
   "id": "alleged-campus",
   "metadata": {},
   "outputs": [
    {
     "name": "stdout",
     "output_type": "stream",
     "text": [
      "Public Key of A: 1021989\n"
     ]
    }
   ],
   "source": [
    "publicKeyA = (keyA.alpha**keyA.privateKey)%keyA.q\n",
    "print('Public Key of A:',publicKeyA)"
   ]
  },
  {
   "cell_type": "code",
   "execution_count": 5,
   "id": "critical-afghanistan",
   "metadata": {},
   "outputs": [
    {
     "name": "stdout",
     "output_type": "stream",
     "text": [
      "Got connection from ('127.0.0.1', 44546)\n"
     ]
    }
   ],
   "source": [
    "import socket                               # Import socket module\n",
    "\n",
    "s = socket.socket()                         # Create a socket object\n",
    "host = socket.gethostname()                 # Get local machine name\n",
    "port = 8001                                 # Reserve a port for your service.\n",
    "s.bind((host, port))                        # Bind to the port\n",
    "\n",
    "s.listen(5)                                 # Now wait for client connection.\n",
    "while True:\n",
    "    c, addr = s.accept()                    # Establish connection with client.\n",
    "    print('Got connection from', addr)\n",
    "    c.send(bytes(str(keyA.q),'utf8'))\n",
    "    c.send(bytes(str(keyA.alpha),'utf8'))\n",
    "    c.send(bytes(str(publicKeyA),'utf8')) \n",
    "    publicKeyB = c.recv(1024)               # receive public key from client\n",
    "    c.close() \n",
    "    break"
   ]
  },
  {
   "cell_type": "code",
   "execution_count": 6,
   "id": "gorgeous-partner",
   "metadata": {},
   "outputs": [
    {
     "data": {
      "text/plain": [
       "10562"
      ]
     },
     "execution_count": 6,
     "metadata": {},
     "output_type": "execute_result"
    }
   ],
   "source": [
    "'''Generate Secret Key'''\n",
    "publicKeyB = str(publicKeyB,'utf8')\n",
    "publicKeyB = int(publicKeyB)\n",
    "secretKey = (publicKeyB**keyA.privateKey)%keyA.q\n",
    "secretKey"
   ]
  },
  {
   "cell_type": "code",
   "execution_count": null,
   "id": "moved-switch",
   "metadata": {},
   "outputs": [],
   "source": []
  }
 ],
 "metadata": {
  "kernelspec": {
   "display_name": "Python 3",
   "language": "python",
   "name": "python3"
  },
  "language_info": {
   "codemirror_mode": {
    "name": "ipython",
    "version": 3
   },
   "file_extension": ".py",
   "mimetype": "text/x-python",
   "name": "python",
   "nbconvert_exporter": "python",
   "pygments_lexer": "ipython3",
   "version": "3.8.5"
  }
 },
 "nbformat": 4,
 "nbformat_minor": 5
}
