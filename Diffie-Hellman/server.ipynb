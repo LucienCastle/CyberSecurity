{
 "cells": [
  {
   "cell_type": "code",
   "execution_count": 1,
   "id": "eligible-adaptation",
   "metadata": {},
   "outputs": [],
   "source": [
    "import random\n",
    "import math\n",
    "from Crypto.Util import number\n",
    "import multiprocessing\n",
    "from joblib import Parallel, delayed"
   ]
  },
  {
   "cell_type": "code",
   "execution_count": 2,
   "id": "static-prescription",
   "metadata": {},
   "outputs": [],
   "source": [
    "class keyGen:\n",
    "    def __init__(self,nbits):\n",
    "        self.q = number.getPrime(nbits)\n",
    "        self.alpha = self.getalpha()\n",
    "        self.privateKey = random.randrange(1,10,1)\n",
    "    \n",
    "    def getalpha(self):\n",
    "        alpha = -1\n",
    "        while alpha == -1:\n",
    "            alpha = self.getPrimitiveRoot(self.q)\n",
    "        return alpha\n",
    "    \n",
    "    def power(self, x, y, p):  \n",
    "        res = 1 # Initialize result  \n",
    "        x = x % p # Update x if it is more  \n",
    "                  # than or equal to p  \n",
    "        while (y > 0):  \n",
    "            # If y is odd, multiply x with result  \n",
    "            if (y & 1): \n",
    "                res = (res * x) % p  \n",
    "            # y must be even now  \n",
    "            y = y >> 1 # y = y/2  \n",
    "            x = (x * x) % p  \n",
    "        return res  \n",
    "\n",
    "    def getPrimeFactors(self,phi):\n",
    "        factors = set()\n",
    "        while (phi % 2 == 0) : \n",
    "            factors.add(2)  \n",
    "            phi = phi // 2\n",
    "\n",
    "        #when phi is odd\n",
    "        for i in range(3, int(math.sqrt(phi)), 2): \n",
    "            while (phi % i == 0) : \n",
    "                factors.add(i)  \n",
    "                phi = phi // i  \n",
    "\n",
    "        # This condition is to handle the case  \n",
    "        # when phi is a prime number greater than 2  \n",
    "        if (phi > 2) : \n",
    "            factors.add(phi)  \n",
    "\n",
    "        return factors\n",
    "    \n",
    "    def getPrimitiveRoot(self,prime):\n",
    "        phi = prime - 1\n",
    "        factors = self.getPrimeFactors(phi)\n",
    "\n",
    "        ret_list = Parallel(n_jobs = multiprocessing.cpu_count())(delayed(self.checkPrimitivePrime)(i, prime, factors) for i in range(2, phi+1))\n",
    "        ret_list = list(filter(None, ret_list))\n",
    "        \n",
    "        return random.choice(ret_list)\n",
    "    \n",
    "    def checkPrimitivePrime(self,i,q,factors):\n",
    "        phi = q - 1\n",
    "        for factor in factors:\n",
    "            if self.power(i, phi // factor, q) == 1:\n",
    "                return None\n",
    "        return i"
   ]
  },
  {
   "cell_type": "code",
   "execution_count": 3,
   "id": "derived-navigation",
   "metadata": {},
   "outputs": [],
   "source": [
    "keyA = keyGen(20)"
   ]
  },
  {
   "cell_type": "code",
   "execution_count": 8,
   "id": "processed-budapest",
   "metadata": {},
   "outputs": [
    {
     "name": "stdout",
     "output_type": "stream",
     "text": [
      "Got connection from ('127.0.0.1', 43596)\n"
     ]
    }
   ],
   "source": [
    "import socket               # Import socket module\n",
    "\n",
    "s = socket.socket()         # Create a socket object\n",
    "host = socket.gethostname() # Get local machine name\n",
    "port = 8002                 # Reserve a port for your service.\n",
    "s.bind((host, port))        # Bind to the port\n",
    "\n",
    "s.listen(5)                 # Now wait for client connection.\n",
    "while True:\n",
    "    c, addr = s.accept()     # Establish connection with client.\n",
    "    print('Got connection from', addr)\n",
    "    c.send(bytes(str(keyA.q),'utf8'))\n",
    "    c.send(bytes(str(keyA.alpha),'utf8'))\n",
    "    c.send(bytes(str(publicKeyA),'utf8'))\n",
    "    publicKeyB = c.recv(1024)\n",
    "    c.close() \n",
    "    break"
   ]
  },
  {
   "cell_type": "code",
   "execution_count": 9,
   "id": "certified-jumping",
   "metadata": {},
   "outputs": [
    {
     "data": {
      "text/plain": [
       "550502"
      ]
     },
     "execution_count": 9,
     "metadata": {},
     "output_type": "execute_result"
    }
   ],
   "source": [
    "publicKeyB = str(publicKeyB,'utf8')\n",
    "publicKeyB = int(publicKeyB)\n",
    "secretKey = (publicKeyB**keyA.privateKey)%keyA.q\n",
    "secretKey"
   ]
  },
  {
   "cell_type": "code",
   "execution_count": null,
   "id": "daily-trial",
   "metadata": {},
   "outputs": [],
   "source": []
  }
 ],
 "metadata": {
  "kernelspec": {
   "display_name": "Python 3",
   "language": "python",
   "name": "python3"
  },
  "language_info": {
   "codemirror_mode": {
    "name": "ipython",
    "version": 3
   },
   "file_extension": ".py",
   "mimetype": "text/x-python",
   "name": "python",
   "nbconvert_exporter": "python",
   "pygments_lexer": "ipython3",
   "version": "3.8.5"
  }
 },
 "nbformat": 4,
 "nbformat_minor": 5
}
